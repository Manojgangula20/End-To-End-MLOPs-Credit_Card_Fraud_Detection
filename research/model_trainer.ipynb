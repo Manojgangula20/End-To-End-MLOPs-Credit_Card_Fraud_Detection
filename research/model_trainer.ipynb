{
 "cells": [
  {
   "cell_type": "code",
   "execution_count": 1,
   "id": "4e5ec826-c661-4e07-a52c-53b679f29a65",
   "metadata": {},
   "outputs": [],
   "source": [
    "import os"
   ]
  },
  {
   "cell_type": "code",
   "execution_count": 2,
   "id": "ce3e5193-edd6-43a6-9899-a07d22fac04b",
   "metadata": {},
   "outputs": [
    {
     "data": {
      "text/plain": [
       "'d:\\\\ml projects\\\\End-To-End-MLOPs-Credit_Card_Fraud_Detection-main\\\\research'"
      ]
     },
     "execution_count": 2,
     "metadata": {},
     "output_type": "execute_result"
    }
   ],
   "source": [
    "%pwd"
   ]
  },
  {
   "cell_type": "code",
   "execution_count": 3,
   "id": "d3104d72-d8ef-4054-8f9b-47277588ff39",
   "metadata": {},
   "outputs": [],
   "source": [
    "os.chdir(\"../\")"
   ]
  },
  {
   "cell_type": "code",
   "execution_count": 4,
   "id": "65dc57ee-4bed-40c4-a42c-7cba24589729",
   "metadata": {},
   "outputs": [
    {
     "data": {
      "text/plain": [
       "'d:\\\\ml projects\\\\End-To-End-MLOPs-Credit_Card_Fraud_Detection-main'"
      ]
     },
     "execution_count": 4,
     "metadata": {},
     "output_type": "execute_result"
    }
   ],
   "source": [
    "%pwd"
   ]
  },
  {
   "cell_type": "markdown",
   "id": "d7cd9647-b4bd-4aef-8dcd-1a55b6f945a5",
   "metadata": {},
   "source": [
    "Entity Configuration"
   ]
  },
  {
   "cell_type": "code",
   "execution_count": 5,
   "id": "9b01da9f-b00b-4191-b6ae-24fd4dedc6cb",
   "metadata": {},
   "outputs": [],
   "source": [
    "from dataclasses import dataclass\n",
    "from pathlib import Path\n",
    "\n",
    "\n",
    "@dataclass(frozen=True)\n",
    "class ModelTrainerConfig:\n",
    "    root_dir: Path\n",
    "    train_data_path: Path\n",
    "    test_data_path: Path\n",
    "    model_name: str\n",
    "    n_estimators : int\n",
    "    criterion: str\n",
    "    bootstrap: bool\n",
    "    target_column: str"
   ]
  },
  {
   "cell_type": "markdown",
   "id": "6fdefc7c-8d4a-4054-a1b2-43b52fb8a666",
   "metadata": {},
   "source": [
    "Configuration Managar\n"
   ]
  },
  {
   "cell_type": "code",
   "execution_count": 6,
   "id": "671d25b9-4d51-4db1-bf9e-bddd8bb85e30",
   "metadata": {},
   "outputs": [],
   "source": [
    "from Credit_Card_Fraud_Detection.constants import *\n",
    "from Credit_Card_Fraud_Detection.utils.common import read_yaml, create_directories"
   ]
  },
  {
   "cell_type": "code",
   "execution_count": 7,
   "id": "b9a097a6-a119-4e3b-8442-4f4c229e208b",
   "metadata": {},
   "outputs": [],
   "source": [
    "class ConfigurationManager:\n",
    "    def __init__(\n",
    "        self,\n",
    "        config_filepath = CONFIG_FILE_PATH,\n",
    "        params_filepath = PARAMS_FILE_PATH,\n",
    "        schema_filepath = SCHEMA_FILE_PATH):\n",
    "\n",
    "        self.config = read_yaml(config_filepath)\n",
    "        self.params = read_yaml(params_filepath)\n",
    "        self.schema = read_yaml(schema_filepath)\n",
    "\n",
    "        create_directories([self.config.artifacts_root])\n",
    "\n",
    "\n",
    "    def get_model_trainer_config(self) -> ModelTrainerConfig:\n",
    "        config = self.config.model_trainer\n",
    "        schema =  self.schema.TARGET_COLUMN\n",
    "        param = self.params.RandomForestClassifier\n",
    "\n",
    "        create_directories([config.root_dir])\n",
    "\n",
    "        model_trainer_config = ModelTrainerConfig(\n",
    "            root_dir=config.root_dir,\n",
    "            train_data_path = config.train_data_path,\n",
    "            test_data_path = config.test_data_path,\n",
    "            model_name = config.model_name,\n",
    "            n_estimators = param.n_estimators,\n",
    "            criterion = param.criterion,\n",
    "            bootstrap = param.bootstrap,\n",
    "            target_column = schema.name\n",
    "            \n",
    "        )\n",
    "\n",
    "        return model_trainer_config"
   ]
  },
  {
   "cell_type": "markdown",
   "id": "209c09b7-f6dc-4357-83ea-33a11c94252f",
   "metadata": {},
   "source": []
  },
  {
   "cell_type": "code",
   "execution_count": 8,
   "id": "6a8e3bbf-a560-486a-ad23-f35eaa6d9248",
   "metadata": {},
   "outputs": [],
   "source": [
    "import pandas as pd\n",
    "import os\n",
    "from Credit_Card_Fraud_Detection import logger\n",
    "from sklearn.ensemble import RandomForestClassifier\n",
    "import joblib"
   ]
  },
  {
   "cell_type": "code",
   "execution_count": 9,
   "id": "f9411450-0497-412b-9237-b839f1733884",
   "metadata": {},
   "outputs": [],
   "source": [
    "class ModelTrainerStrategy:\n",
    "    def __init__(self, config: ModelTrainerConfig):\n",
    "        self.config = config\n",
    "\n",
    "    \n",
    "    def train(self):\n",
    "        train_data = pd.read_csv(self.config.train_data_path)\n",
    "        test_data = pd.read_csv(self.config.test_data_path)\n",
    "\n",
    "\n",
    "        train_x = train_data.drop([self.config.target_column], axis=1)\n",
    "        test_x = test_data.drop([self.config.target_column], axis=1)\n",
    "        train_y = train_data[[self.config.target_column]]\n",
    "        test_y = test_data[[self.config.target_column]]\n",
    "\n",
    "        rfc = RandomForestClassifier(n_estimators=self.config.n_estimators, criterion = self.config.criterion,bootstrap = self.config.bootstrap, random_state=42,verbose = True)\n",
    "        rfc.fit(train_x, train_y)\n",
    "\n",
    "        joblib.dump(rfc, os.path.join(self.config.root_dir, self.config.model_name))\n",
    "\n"
   ]
  },
  {
   "cell_type": "code",
   "execution_count": 10,
   "id": "efe9f2de-e9dd-448d-b556-494e34db48d2",
   "metadata": {},
   "outputs": [
    {
     "name": "stdout",
     "output_type": "stream",
     "text": [
      "[2024-12-27 23:32:09,092: INFO: common: yaml file: config\\config.yaml loaded successfully]\n",
      "[2024-12-27 23:32:09,098: INFO: common: yaml file: params.yaml loaded successfully]\n",
      "[2024-12-27 23:32:09,102: INFO: common: yaml file: schema.yaml loaded successfully]\n",
      "[2024-12-27 23:32:09,102: INFO: common: created directory at: artifacts]\n",
      "[2024-12-27 23:32:09,102: INFO: common: created directory at: artifacts/model_trainer]\n"
     ]
    },
    {
     "name": "stderr",
     "output_type": "stream",
     "text": [
      "d:\\ml projects\\End-To-End-MLOPs-Credit_Card_Fraud_Detection-main\\venv\\Lib\\site-packages\\sklearn\\base.py:1389: DataConversionWarning: A column-vector y was passed when a 1d array was expected. Please change the shape of y to (n_samples,), for example using ravel().\n",
      "  return fit_method(estimator, *args, **kwargs)\n",
      "[Parallel(n_jobs=1)]: Done  49 tasks      | elapsed:  1.7min\n"
     ]
    }
   ],
   "source": [
    "try:\n",
    "    config = ConfigurationManager()\n",
    "    model_trainer_config = config.get_model_trainer_config()\n",
    "    model_trainer_config = ModelTrainerStrategy(config=model_trainer_config)\n",
    "    model_trainer_config.train()\n",
    "except Exception as e:\n",
    "    raise e"
   ]
  }
 ],
 "metadata": {
  "kernelspec": {
   "display_name": "Python 3",
   "language": "python",
   "name": "python3"
  },
  "language_info": {
   "codemirror_mode": {
    "name": "ipython",
    "version": 3
   },
   "file_extension": ".py",
   "mimetype": "text/x-python",
   "name": "python",
   "nbconvert_exporter": "python",
   "pygments_lexer": "ipython3",
   "version": "3.11.11"
  }
 },
 "nbformat": 4,
 "nbformat_minor": 5
}
